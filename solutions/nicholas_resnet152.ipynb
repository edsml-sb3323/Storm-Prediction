{
  "cells": [
    {
      "cell_type": "markdown",
      "metadata": {
        "id": "A6fCuj50-JRh"
      },
      "source": [
        "Mounting the drive"
      ]
    },
    {
      "cell_type": "code",
      "execution_count": null,
      "metadata": {
        "colab": {
          "base_uri": "https://localhost:8080/"
        },
        "id": "ezWaL-Q2i1eK",
        "outputId": "529c72f7-113e-4004-ec70-6de741c41048"
      },
      "outputs": [
        {
          "name": "stdout",
          "output_type": "stream",
          "text": [
            "Drive already mounted at /content/gdrive/; to attempt to forcibly remount, call drive.mount(\"/content/gdrive/\", force_remount=True).\n"
          ]
        }
      ],
      "source": [
        "from google.colab import drive\n",
        "drive.mount('/content/gdrive/')"
      ]
    },
    {
      "cell_type": "markdown",
      "metadata": {
        "id": "UhYKS87E-OlE"
      },
      "source": [
        "Loading the packages"
      ]
    },
    {
      "cell_type": "code",
      "execution_count": null,
      "metadata": {
        "id": "4lJB4ZNaKy31"
      },
      "outputs": [],
      "source": [
        "!pip install pycm livelossplot\n",
        "!pip install torchsummary\n",
        "%pylab inline\n",
        "\n",
        "from livelossplot import PlotLosses\n",
        "from pycm import *\n",
        "\n",
        "import torch\n",
        "import torch.nn as nn\n",
        "import torch.nn.functional as F\n",
        "from torch.utils.data import DataLoader, Dataset\n",
        "import torchvision.transforms as transforms\n",
        "from torchsummary import summary\n",
        "import numpy as np\n",
        "import random\n",
        "import pandas as pd\n",
        "from PIL import Image as pil_image\n",
        "import csv\n",
        "from sklearn.metrics import mean_squared_error\n",
        "import matplotlib.pyplot as plt\n",
        "from torchvision import models\n",
        "from itertools import chain"
      ]
    },
    {
      "cell_type": "code",
      "execution_count": null,
      "metadata": {},
      "outputs": [],
      "source": [
        "import os \n",
        "import sys\n",
        "sys.path.append(\"/content/gdrive/MyDrive/edsmlproj2\")"
      ]
    },
    {
      "cell_type": "markdown",
      "metadata": {},
      "source": [
        "from Tools_Speed.modelSpeed import RMSELoss, PretrainedWindModel\n",
        "from Tools_Speed.WindSpeedDataset import DatasetWIND\n",
        "from Tools_Speed.UtilsSpeed import set_seed, create_df, to_csv, create_test_df"
      ]
    },
    {
      "cell_type": "markdown",
      "metadata": {},
      "source": [
        "Check for GPU"
      ]
    },
    {
      "cell_type": "code",
      "execution_count": null,
      "metadata": {
        "colab": {
          "base_uri": "https://localhost:8080/"
        },
        "id": "FyFAy7W_oAio",
        "outputId": "05fbc7b7-d860-4e30-96bc-117aa80e700f"
      },
      "outputs": [
        {
          "name": "stdout",
          "output_type": "stream",
          "text": [
            "Cuda installed! Running on GPU!\n"
          ]
        }
      ],
      "source": [
        "device = 'cpu'\n",
        "if torch.cuda.device_count() > 0 and torch.cuda.is_available():\n",
        "    print(\"Cuda installed! Running on GPU!\")\n",
        "    device = 'cuda'\n",
        "else:\n",
        "    print(\"No GPU available!\")"
      ]
    },
    {
      "cell_type": "markdown",
      "metadata": {
        "id": "Lqlarp_z-Zyp"
      },
      "source": [
        "Creation of Dataframe"
      ]
    },
    {
      "cell_type": "code",
      "execution_count": null,
      "metadata": {
        "colab": {
          "base_uri": "https://localhost:8080/",
          "height": 423
        },
        "id": "tv_qcUHljrkB",
        "outputId": "feaaf50a-922a-4c40-cecf-d8fc9841d7d1"
      },
      "outputs": [
        {
          "data": {
            "text/html": [
              "\n",
              "  <div id=\"df-abf110d0-f582-49ea-b110-7043eb1120d0\" class=\"colab-df-container\">\n",
              "    <div>\n",
              "<style scoped>\n",
              "    .dataframe tbody tr th:only-of-type {\n",
              "        vertical-align: middle;\n",
              "    }\n",
              "\n",
              "    .dataframe tbody tr th {\n",
              "        vertical-align: top;\n",
              "    }\n",
              "\n",
              "    .dataframe thead th {\n",
              "        text-align: right;\n",
              "    }\n",
              "</style>\n",
              "<table border=\"1\" class=\"dataframe\">\n",
              "  <thead>\n",
              "    <tr style=\"text-align: right;\">\n",
              "      <th></th>\n",
              "      <th>storm_id</th>\n",
              "      <th>relative_time</th>\n",
              "      <th>ocean</th>\n",
              "      <th>wind_speed</th>\n",
              "      <th>image_file_name</th>\n",
              "      <th>images_per_storm</th>\n",
              "      <th>image_path</th>\n",
              "      <th>pct_of_storm</th>\n",
              "    </tr>\n",
              "  </thead>\n",
              "  <tbody>\n",
              "    <tr>\n",
              "      <th>0</th>\n",
              "      <td>bkh</td>\n",
              "      <td>0</td>\n",
              "      <td>1</td>\n",
              "      <td>25</td>\n",
              "      <td>bkh_000.jpg</td>\n",
              "      <td>410</td>\n",
              "      <td>/content/gdrive/MyDrive/edsmlproj2/all_storm_i...</td>\n",
              "      <td>0.000000</td>\n",
              "    </tr>\n",
              "    <tr>\n",
              "      <th>1</th>\n",
              "      <td>bkh</td>\n",
              "      <td>1801</td>\n",
              "      <td>1</td>\n",
              "      <td>25</td>\n",
              "      <td>bkh_001.jpg</td>\n",
              "      <td>410</td>\n",
              "      <td>/content/gdrive/MyDrive/edsmlproj2/all_storm_i...</td>\n",
              "      <td>0.002439</td>\n",
              "    </tr>\n",
              "    <tr>\n",
              "      <th>2</th>\n",
              "      <td>bkh</td>\n",
              "      <td>3600</td>\n",
              "      <td>1</td>\n",
              "      <td>25</td>\n",
              "      <td>bkh_002.jpg</td>\n",
              "      <td>410</td>\n",
              "      <td>/content/gdrive/MyDrive/edsmlproj2/all_storm_i...</td>\n",
              "      <td>0.004878</td>\n",
              "    </tr>\n",
              "    <tr>\n",
              "      <th>3</th>\n",
              "      <td>bkh</td>\n",
              "      <td>5400</td>\n",
              "      <td>1</td>\n",
              "      <td>25</td>\n",
              "      <td>bkh_003.jpg</td>\n",
              "      <td>410</td>\n",
              "      <td>/content/gdrive/MyDrive/edsmlproj2/all_storm_i...</td>\n",
              "      <td>0.007317</td>\n",
              "    </tr>\n",
              "    <tr>\n",
              "      <th>4</th>\n",
              "      <td>bkh</td>\n",
              "      <td>7200</td>\n",
              "      <td>1</td>\n",
              "      <td>25</td>\n",
              "      <td>bkh_004.jpg</td>\n",
              "      <td>410</td>\n",
              "      <td>/content/gdrive/MyDrive/edsmlproj2/all_storm_i...</td>\n",
              "      <td>0.009756</td>\n",
              "    </tr>\n",
              "    <tr>\n",
              "      <th>...</th>\n",
              "      <td>...</td>\n",
              "      <td>...</td>\n",
              "      <td>...</td>\n",
              "      <td>...</td>\n",
              "      <td>...</td>\n",
              "      <td>...</td>\n",
              "      <td>...</td>\n",
              "      <td>...</td>\n",
              "    </tr>\n",
              "    <tr>\n",
              "      <th>9522</th>\n",
              "      <td>ztb</td>\n",
              "      <td>550801</td>\n",
              "      <td>1</td>\n",
              "      <td>44</td>\n",
              "      <td>ztb_253.jpg</td>\n",
              "      <td>258</td>\n",
              "      <td>/content/gdrive/MyDrive/edsmlproj2/all_storm_i...</td>\n",
              "      <td>0.980620</td>\n",
              "    </tr>\n",
              "    <tr>\n",
              "      <th>9523</th>\n",
              "      <td>ztb</td>\n",
              "      <td>552603</td>\n",
              "      <td>1</td>\n",
              "      <td>43</td>\n",
              "      <td>ztb_254.jpg</td>\n",
              "      <td>258</td>\n",
              "      <td>/content/gdrive/MyDrive/edsmlproj2/all_storm_i...</td>\n",
              "      <td>0.984496</td>\n",
              "    </tr>\n",
              "    <tr>\n",
              "      <th>9524</th>\n",
              "      <td>ztb</td>\n",
              "      <td>554401</td>\n",
              "      <td>1</td>\n",
              "      <td>42</td>\n",
              "      <td>ztb_255.jpg</td>\n",
              "      <td>258</td>\n",
              "      <td>/content/gdrive/MyDrive/edsmlproj2/all_storm_i...</td>\n",
              "      <td>0.988372</td>\n",
              "    </tr>\n",
              "    <tr>\n",
              "      <th>9525</th>\n",
              "      <td>ztb</td>\n",
              "      <td>556202</td>\n",
              "      <td>1</td>\n",
              "      <td>42</td>\n",
              "      <td>ztb_256.jpg</td>\n",
              "      <td>258</td>\n",
              "      <td>/content/gdrive/MyDrive/edsmlproj2/all_storm_i...</td>\n",
              "      <td>0.992248</td>\n",
              "    </tr>\n",
              "    <tr>\n",
              "      <th>9526</th>\n",
              "      <td>ztb</td>\n",
              "      <td>558001</td>\n",
              "      <td>1</td>\n",
              "      <td>41</td>\n",
              "      <td>ztb_257.jpg</td>\n",
              "      <td>258</td>\n",
              "      <td>/content/gdrive/MyDrive/edsmlproj2/all_storm_i...</td>\n",
              "      <td>0.996124</td>\n",
              "    </tr>\n",
              "  </tbody>\n",
              "</table>\n",
              "<p>9527 rows × 8 columns</p>\n",
              "</div>\n",
              "    <div class=\"colab-df-buttons\">\n",
              "\n",
              "  <div class=\"colab-df-container\">\n",
              "    <button class=\"colab-df-convert\" onclick=\"convertToInteractive('df-abf110d0-f582-49ea-b110-7043eb1120d0')\"\n",
              "            title=\"Convert this dataframe to an interactive table.\"\n",
              "            style=\"display:none;\">\n",
              "\n",
              "  <svg xmlns=\"http://www.w3.org/2000/svg\" height=\"24px\" viewBox=\"0 -960 960 960\">\n",
              "    <path d=\"M120-120v-720h720v720H120Zm60-500h600v-160H180v160Zm220 220h160v-160H400v160Zm0 220h160v-160H400v160ZM180-400h160v-160H180v160Zm440 0h160v-160H620v160ZM180-180h160v-160H180v160Zm440 0h160v-160H620v160Z\"/>\n",
              "  </svg>\n",
              "    </button>\n",
              "\n",
              "  <style>\n",
              "    .colab-df-container {\n",
              "      display:flex;\n",
              "      gap: 12px;\n",
              "    }\n",
              "\n",
              "    .colab-df-convert {\n",
              "      background-color: #E8F0FE;\n",
              "      border: none;\n",
              "      border-radius: 50%;\n",
              "      cursor: pointer;\n",
              "      display: none;\n",
              "      fill: #1967D2;\n",
              "      height: 32px;\n",
              "      padding: 0 0 0 0;\n",
              "      width: 32px;\n",
              "    }\n",
              "\n",
              "    .colab-df-convert:hover {\n",
              "      background-color: #E2EBFA;\n",
              "      box-shadow: 0px 1px 2px rgba(60, 64, 67, 0.3), 0px 1px 3px 1px rgba(60, 64, 67, 0.15);\n",
              "      fill: #174EA6;\n",
              "    }\n",
              "\n",
              "    .colab-df-buttons div {\n",
              "      margin-bottom: 4px;\n",
              "    }\n",
              "\n",
              "    [theme=dark] .colab-df-convert {\n",
              "      background-color: #3B4455;\n",
              "      fill: #D2E3FC;\n",
              "    }\n",
              "\n",
              "    [theme=dark] .colab-df-convert:hover {\n",
              "      background-color: #434B5C;\n",
              "      box-shadow: 0px 1px 3px 1px rgba(0, 0, 0, 0.15);\n",
              "      filter: drop-shadow(0px 1px 2px rgba(0, 0, 0, 0.3));\n",
              "      fill: #FFFFFF;\n",
              "    }\n",
              "  </style>\n",
              "\n",
              "    <script>\n",
              "      const buttonEl =\n",
              "        document.querySelector('#df-abf110d0-f582-49ea-b110-7043eb1120d0 button.colab-df-convert');\n",
              "      buttonEl.style.display =\n",
              "        google.colab.kernel.accessAllowed ? 'block' : 'none';\n",
              "\n",
              "      async function convertToInteractive(key) {\n",
              "        const element = document.querySelector('#df-abf110d0-f582-49ea-b110-7043eb1120d0');\n",
              "        const dataTable =\n",
              "          await google.colab.kernel.invokeFunction('convertToInteractive',\n",
              "                                                    [key], {});\n",
              "        if (!dataTable) return;\n",
              "\n",
              "        const docLinkHtml = 'Like what you see? Visit the ' +\n",
              "          '<a target=\"_blank\" href=https://colab.research.google.com/notebooks/data_table.ipynb>data table notebook</a>'\n",
              "          + ' to learn more about interactive tables.';\n",
              "        element.innerHTML = '';\n",
              "        dataTable['output_type'] = 'display_data';\n",
              "        await google.colab.output.renderOutput(dataTable, element);\n",
              "        const docLink = document.createElement('div');\n",
              "        docLink.innerHTML = docLinkHtml;\n",
              "        element.appendChild(docLink);\n",
              "      }\n",
              "    </script>\n",
              "  </div>\n",
              "\n",
              "\n",
              "<div id=\"df-bb8b2fe1-4a95-4929-859f-6da9287b77ba\">\n",
              "  <button class=\"colab-df-quickchart\" onclick=\"quickchart('df-bb8b2fe1-4a95-4929-859f-6da9287b77ba')\"\n",
              "            title=\"Suggest charts\"\n",
              "            style=\"display:none;\">\n",
              "\n",
              "<svg xmlns=\"http://www.w3.org/2000/svg\" height=\"24px\"viewBox=\"0 0 24 24\"\n",
              "     width=\"24px\">\n",
              "    <g>\n",
              "        <path d=\"M19 3H5c-1.1 0-2 .9-2 2v14c0 1.1.9 2 2 2h14c1.1 0 2-.9 2-2V5c0-1.1-.9-2-2-2zM9 17H7v-7h2v7zm4 0h-2V7h2v10zm4 0h-2v-4h2v4z\"/>\n",
              "    </g>\n",
              "</svg>\n",
              "  </button>\n",
              "\n",
              "<style>\n",
              "  .colab-df-quickchart {\n",
              "      --bg-color: #E8F0FE;\n",
              "      --fill-color: #1967D2;\n",
              "      --hover-bg-color: #E2EBFA;\n",
              "      --hover-fill-color: #174EA6;\n",
              "      --disabled-fill-color: #AAA;\n",
              "      --disabled-bg-color: #DDD;\n",
              "  }\n",
              "\n",
              "  [theme=dark] .colab-df-quickchart {\n",
              "      --bg-color: #3B4455;\n",
              "      --fill-color: #D2E3FC;\n",
              "      --hover-bg-color: #434B5C;\n",
              "      --hover-fill-color: #FFFFFF;\n",
              "      --disabled-bg-color: #3B4455;\n",
              "      --disabled-fill-color: #666;\n",
              "  }\n",
              "\n",
              "  .colab-df-quickchart {\n",
              "    background-color: var(--bg-color);\n",
              "    border: none;\n",
              "    border-radius: 50%;\n",
              "    cursor: pointer;\n",
              "    display: none;\n",
              "    fill: var(--fill-color);\n",
              "    height: 32px;\n",
              "    padding: 0;\n",
              "    width: 32px;\n",
              "  }\n",
              "\n",
              "  .colab-df-quickchart:hover {\n",
              "    background-color: var(--hover-bg-color);\n",
              "    box-shadow: 0 1px 2px rgba(60, 64, 67, 0.3), 0 1px 3px 1px rgba(60, 64, 67, 0.15);\n",
              "    fill: var(--button-hover-fill-color);\n",
              "  }\n",
              "\n",
              "  .colab-df-quickchart-complete:disabled,\n",
              "  .colab-df-quickchart-complete:disabled:hover {\n",
              "    background-color: var(--disabled-bg-color);\n",
              "    fill: var(--disabled-fill-color);\n",
              "    box-shadow: none;\n",
              "  }\n",
              "\n",
              "  .colab-df-spinner {\n",
              "    border: 2px solid var(--fill-color);\n",
              "    border-color: transparent;\n",
              "    border-bottom-color: var(--fill-color);\n",
              "    animation:\n",
              "      spin 1s steps(1) infinite;\n",
              "  }\n",
              "\n",
              "  @keyframes spin {\n",
              "    0% {\n",
              "      border-color: transparent;\n",
              "      border-bottom-color: var(--fill-color);\n",
              "      border-left-color: var(--fill-color);\n",
              "    }\n",
              "    20% {\n",
              "      border-color: transparent;\n",
              "      border-left-color: var(--fill-color);\n",
              "      border-top-color: var(--fill-color);\n",
              "    }\n",
              "    30% {\n",
              "      border-color: transparent;\n",
              "      border-left-color: var(--fill-color);\n",
              "      border-top-color: var(--fill-color);\n",
              "      border-right-color: var(--fill-color);\n",
              "    }\n",
              "    40% {\n",
              "      border-color: transparent;\n",
              "      border-right-color: var(--fill-color);\n",
              "      border-top-color: var(--fill-color);\n",
              "    }\n",
              "    60% {\n",
              "      border-color: transparent;\n",
              "      border-right-color: var(--fill-color);\n",
              "    }\n",
              "    80% {\n",
              "      border-color: transparent;\n",
              "      border-right-color: var(--fill-color);\n",
              "      border-bottom-color: var(--fill-color);\n",
              "    }\n",
              "    90% {\n",
              "      border-color: transparent;\n",
              "      border-bottom-color: var(--fill-color);\n",
              "    }\n",
              "  }\n",
              "</style>\n",
              "\n",
              "  <script>\n",
              "    async function quickchart(key) {\n",
              "      const quickchartButtonEl =\n",
              "        document.querySelector('#' + key + ' button');\n",
              "      quickchartButtonEl.disabled = true;  // To prevent multiple clicks.\n",
              "      quickchartButtonEl.classList.add('colab-df-spinner');\n",
              "      try {\n",
              "        const charts = await google.colab.kernel.invokeFunction(\n",
              "            'suggestCharts', [key], {});\n",
              "      } catch (error) {\n",
              "        console.error('Error during call to suggestCharts:', error);\n",
              "      }\n",
              "      quickchartButtonEl.classList.remove('colab-df-spinner');\n",
              "      quickchartButtonEl.classList.add('colab-df-quickchart-complete');\n",
              "    }\n",
              "    (() => {\n",
              "      let quickchartButtonEl =\n",
              "        document.querySelector('#df-bb8b2fe1-4a95-4929-859f-6da9287b77ba button');\n",
              "      quickchartButtonEl.style.display =\n",
              "        google.colab.kernel.accessAllowed ? 'block' : 'none';\n",
              "    })();\n",
              "  </script>\n",
              "</div>\n",
              "    </div>\n",
              "  </div>\n"
            ],
            "text/plain": [
              "     storm_id  relative_time  ocean  wind_speed image_file_name  \\\n",
              "0         bkh              0      1          25     bkh_000.jpg   \n",
              "1         bkh           1801      1          25     bkh_001.jpg   \n",
              "2         bkh           3600      1          25     bkh_002.jpg   \n",
              "3         bkh           5400      1          25     bkh_003.jpg   \n",
              "4         bkh           7200      1          25     bkh_004.jpg   \n",
              "...       ...            ...    ...         ...             ...   \n",
              "9522      ztb         550801      1          44     ztb_253.jpg   \n",
              "9523      ztb         552603      1          43     ztb_254.jpg   \n",
              "9524      ztb         554401      1          42     ztb_255.jpg   \n",
              "9525      ztb         556202      1          42     ztb_256.jpg   \n",
              "9526      ztb         558001      1          41     ztb_257.jpg   \n",
              "\n",
              "      images_per_storm                                         image_path  \\\n",
              "0                  410  /content/gdrive/MyDrive/edsmlproj2/all_storm_i...   \n",
              "1                  410  /content/gdrive/MyDrive/edsmlproj2/all_storm_i...   \n",
              "2                  410  /content/gdrive/MyDrive/edsmlproj2/all_storm_i...   \n",
              "3                  410  /content/gdrive/MyDrive/edsmlproj2/all_storm_i...   \n",
              "4                  410  /content/gdrive/MyDrive/edsmlproj2/all_storm_i...   \n",
              "...                ...                                                ...   \n",
              "9522               258  /content/gdrive/MyDrive/edsmlproj2/all_storm_i...   \n",
              "9523               258  /content/gdrive/MyDrive/edsmlproj2/all_storm_i...   \n",
              "9524               258  /content/gdrive/MyDrive/edsmlproj2/all_storm_i...   \n",
              "9525               258  /content/gdrive/MyDrive/edsmlproj2/all_storm_i...   \n",
              "9526               258  /content/gdrive/MyDrive/edsmlproj2/all_storm_i...   \n",
              "\n",
              "      pct_of_storm  \n",
              "0         0.000000  \n",
              "1         0.002439  \n",
              "2         0.004878  \n",
              "3         0.007317  \n",
              "4         0.009756  \n",
              "...            ...  \n",
              "9522      0.980620  \n",
              "9523      0.984496  \n",
              "9524      0.988372  \n",
              "9525      0.992248  \n",
              "9526      0.996124  \n",
              "\n",
              "[9527 rows x 8 columns]"
            ]
          },
          "execution_count": 15,
          "metadata": {},
          "output_type": "execute_result"
        }
      ],
      "source": [
        "csv_file_name = '/content/gdrive/MyDrive/edsmlproj2/combined_storm.csv'\n",
        "df = create_df(csv_file_name)\n",
        "df"
      ]
    },
    {
      "cell_type": "markdown",
      "metadata": {
        "id": "vM0FjaNWlAni"
      },
      "source": [
        "Creation of classes and function to use for model training"
      ]
    },
    {
      "cell_type": "code",
      "execution_count": null,
      "metadata": {
        "id": "YmWq4LNuCMGq"
      },
      "outputs": [],
      "source": [
        "# Create training dataset\n",
        "train_dataset = DatasetWIND(df, transform=DatasetWIND.transform_train)\n",
        "\n",
        "# Create validation dataset\n",
        "val_dataset = DatasetWIND(df, transform=DatasetWIND.transform_val)"
      ]
    },
    {
      "cell_type": "code",
      "execution_count": null,
      "metadata": {
        "id": "IH2_HBaqb7Ks"
      },
      "outputs": [],
      "source": [
        "# Extract features and labels for training set\n",
        "x_train = [sample['image'] for sample in train_dataset]\n",
        "y_train = [sample['label'] for sample in train_dataset]\n",
        "\n",
        "# Extract features and labels for validation set\n",
        "x_val = [sample['image'] for sample in val_dataset]\n",
        "y_val = [sample['label'] for sample in val_dataset]"
      ]
    },
    {
      "cell_type": "markdown",
      "metadata": {
        "id": "GJtFvMXo_3_x"
      },
      "source": [
        "Creation of Network"
      ]
    },
    {
      "cell_type": "code",
      "execution_count": null,
      "metadata": {
        "id": "N2SKAeOYaLQz"
      },
      "outputs": [],
      "source": [
        "hparams = {\n",
        "    # Required hparams\n",
        "    \"x_train\": x_train,\n",
        "    \"y_train\": y_train,\n",
        "    \"x_val\": x_val,\n",
        "    \"y_val\": y_val,\n",
        "    # Optional hparams\n",
        "    \"lr\": 2e-5,\n",
        "    \"embedding_dim\": 100,\n",
        "    \"dropout\": 0.2,\n",
        "    \"max_epochs\": 10,\n",
        "    \"batch_size\": 10,\n",
        "    \"num_workers\": 0,\n",
        "}"
      ]
    },
    {
      "cell_type": "code",
      "execution_count": null,
      "metadata": {
        "id": "1EajmrXTkTrm"
      },
      "outputs": [],
      "source": [
        "def train(model, optimizer, criterion, data_loader):\n",
        "    model.train()\n",
        "    train_loss, train_rmse = 0, 0\n",
        "    total_samples = 0\n",
        "\n",
        "    for batch in data_loader:\n",
        "        features = batch['image'].to(device)\n",
        "        labels = batch['label'].to(device).float()  # Ensure labels are of type torch.float\n",
        "\n",
        "        optimizer.zero_grad()\n",
        "        predictions = model(features)\n",
        "\n",
        "        # Ensure predictions are cast to torch.float\n",
        "        predictions = predictions.to(torch.float)\n",
        "\n",
        "        # Use mean squared error and take the square root for RMSE\n",
        "        loss = torch.sqrt(criterion(predictions, labels))\n",
        "\n",
        "        loss.backward()\n",
        "        optimizer.step()\n",
        "\n",
        "        train_loss += loss.item() * features.size(0)\n",
        "        total_samples += features.size(0)\n",
        "\n",
        "        # Compute RMSE using sklearn's mean_squared_error\n",
        "        y_pred = predictions.detach().cpu().numpy()\n",
        "        train_rmse += np.sqrt(mean_squared_error(labels.cpu().numpy(), y_pred)) * features.size(0)\n",
        "\n",
        "    return train_loss / total_samples, train_rmse / total_samples\n",
        "\n",
        "\n",
        "def validate(model, criterion, data_loader):\n",
        "    model.eval()\n",
        "    validation_loss, validation_rmse = 0., 0.\n",
        "    total_samples = 0\n",
        "\n",
        "    for batch in data_loader:\n",
        "        with torch.no_grad():\n",
        "            features = batch['image'].to(device)\n",
        "            labels = batch['label'].to(device).float()  # Ensure labels are of type torch.float\n",
        "\n",
        "            predictions = model(features)\n",
        "\n",
        "            # Ensure predictions are cast to torch.float\n",
        "            predictions = predictions.to(torch.float)\n",
        "\n",
        "            # Use mean squared error and take the square root for RMSE\n",
        "            loss = torch.sqrt(criterion(predictions, labels))\n",
        "\n",
        "            validation_loss += loss.item() * features.size(0)\n",
        "            total_samples += features.size(0)\n",
        "\n",
        "            # Compute RMSE using sklearn's mean_squared_error\n",
        "            y_pred = predictions.cpu().numpy()\n",
        "            validation_rmse += np.sqrt(mean_squared_error(labels.cpu().numpy(), y_pred)) * features.size(0)\n",
        "\n",
        "    return validation_loss / total_samples, validation_rmse / total_samples\n",
        "\n",
        "\n",
        "\n"
      ]
    },
    {
      "cell_type": "code",
      "execution_count": null,
      "metadata": {
        "id": "uL0hggUqh-ps"
      },
      "outputs": [],
      "source": [
        "def train_model(hparams):\n",
        "    set_seed(42)\n",
        "    model = PretrainedWindModel(hparams=hparams).to(device)\n",
        "    optimizer = torch.optim.Adam(model.parameters(), lr=hparams[\"lr\"])\n",
        "    criterion = RMSELoss()\n",
        "\n",
        "    train_loader = DataLoader(train_dataset, batch_size=hparams[\"batch_size\"], shuffle=False, num_workers=hparams[\"num_workers\"])\n",
        "    validation_loader = DataLoader(val_dataset, batch_size=hparams[\"batch_size\"], shuffle=False, num_workers=hparams[\"num_workers\"])\n",
        "\n",
        "    liveloss = PlotLosses()\n",
        "    for epoch in range(hparams[\"max_epochs\"]):\n",
        "        logs = {}\n",
        "        train_loss, train_rmse = train(model, optimizer, criterion, train_loader)\n",
        "\n",
        "        # Check if the values are tensors\n",
        "        if isinstance(train_loss, torch.Tensor):\n",
        "            logs['' + 'log loss'] = train_loss.item()\n",
        "        else:\n",
        "            logs['' + 'log loss'] = train_loss\n",
        "\n",
        "        if isinstance(train_rmse, torch.Tensor):\n",
        "            logs['' + 'RMSE'] = train_rmse.item()\n",
        "        else:\n",
        "            logs['' + 'RMSE'] = train_rmse\n",
        "\n",
        "        validation_loss, validation_rmse = validate(model, criterion, validation_loader)\n",
        "\n",
        "        # Check if the values are tensors\n",
        "        if isinstance(validation_loss, torch.Tensor):\n",
        "            logs['val_' + 'log loss'] = validation_loss.item()\n",
        "        else:\n",
        "            logs['val_' + 'log loss'] = validation_loss\n",
        "\n",
        "        # Check if the values are tensors\n",
        "        if isinstance(validation_rmse, torch.Tensor):\n",
        "            logs['val_' + 'RMSE'] = validation_rmse.item()\n",
        "        else:\n",
        "            logs['val_' + 'RMSE'] = validation_rmse\n",
        "\n",
        "        liveloss.update(logs)\n",
        "        liveloss.draw()\n",
        "\n",
        "    return model\n",
        "\n"
      ]
    },
    {
      "cell_type": "code",
      "execution_count": null,
      "metadata": {
        "colab": {
          "base_uri": "https://localhost:8080/",
          "height": 889
        },
        "id": "jDedm6dwvyVZ",
        "outputId": "eab3debd-d34f-431f-a5eb-54cf545150f3"
      },
      "outputs": [
        {
          "data": {
            "image/png": "[encoded data removed]",
            "text/plain": [
              "<Figure size 1200x800 with 2 Axes>"
            ]
          },
          "metadata": {},
          "output_type": "display_data"
        },
        {
          "name": "stdout",
          "output_type": "stream",
          "text": [
            "RMSE\n",
            "\ttraining         \t (min:   15.011, max:   32.374, cur:   15.011)\n",
            "\tvalidation       \t (min:   13.818, max:   17.771, cur:   14.755)\n",
            "log loss\n",
            "\ttraining         \t (min:    3.666, max:    5.204, cur:    3.666)\n",
            "\tvalidation       \t (min:    3.512, max:    4.019, cur:    3.645)\n"
          ]
        }
      ],
      "source": [
        "# Call the train_model function with the hyperparameters from the PretrainedWindModel class\n",
        "model = train_model(hparams)"
      ]
    },
    {
      "cell_type": "markdown",
      "metadata": {
        "id": "Fh2sGfy1c4OX"
      },
      "source": [
        "Evaluate against test data set"
      ]
    },
    {
      "cell_type": "code",
      "execution_count": null,
      "metadata": {
        "id": "LyWwfSHMayvF"
      },
      "outputs": [],
      "source": [
        "csv_file_name = '/content/gdrive/MyDrive/edsmlproj2/data_tst.csv'\n",
        "test_df = create_test_df(csv_file_name)"
      ]
    },
    {
      "cell_type": "code",
      "execution_count": null,
      "metadata": {},
      "outputs": [],
      "source": [
        "# Preprocess the test data using the same transformations as the training and validation data\n",
        "test_dataset = DatasetWIND(test_df, transform=DatasetWIND.transform_val)\n",
        "\n",
        "# Create a data loader for the test dataset\n",
        "test_loader = DataLoader(test_dataset, batch_size=hparams[\"batch_size\"], shuffle=False, num_workers=hparams[\"num_workers\"])\n",
        "\n",
        "# Set the model to evaluation mode\n",
        "model.eval()\n",
        "\n",
        "# Create empty lists to store the predicted labels and true labels\n",
        "predicted_labels = []\n",
        "true_labels = []\n",
        "\n",
        "# Iterate over the test data loader and make predictions\n",
        "for batch in test_loader:\n",
        "    features = batch['image'].to(device)\n",
        "    labels = batch['label'].to(device).float()\n",
        "\n",
        "    # Forward pass to get the predicted labels\n",
        "    with torch.no_grad():\n",
        "        predictions = model(features)\n",
        "\n",
        "    # Append the predicted labels and true labels to the respective lists\n",
        "    predicted_labels.extend(predictions.cpu().numpy())\n",
        "    true_labels.extend(labels.cpu().numpy())"
      ]
    },
    {
      "cell_type": "code",
      "execution_count": null,
      "metadata": {
        "colab": {
          "base_uri": "https://localhost:8080/",
          "height": 472
        },
        "id": "dPd8ZLM2xFQC",
        "outputId": "7075655d-be91-4a4f-d0f7-0081650f0a7d"
      },
      "outputs": [
        {
          "data": {
            "image/png": "[encoded data removed]",
            "text/plain": [
              "<Figure size 640x480 with 1 Axes>"
            ]
          },
          "metadata": {},
          "output_type": "display_data"
        }
      ],
      "source": [
        "# Convert the predicted labels and true labels to numpy arrays\n",
        "predicted_labels = np.array(predicted_labels)\n",
        "true_labels = np.array(true_labels)\n",
        "\n",
        "# Get the indices of the test data\n",
        "indices = np.arange(len(test_dataset))\n",
        "\n",
        "# Plot the predicted labels against the test data\n",
        "plt.scatter(indices[-13:], predicted_labels[-13:], label='Predicted Labels')\n",
        "plt.scatter(indices, true_labels, label='True Labels')\n",
        "plt.xlabel('Index')\n",
        "plt.ylabel('Wind Speed')\n",
        "plt.title('Predicted Labels vs True Labels')\n",
        "plt.legend()\n",
        "plt.show()\n"
      ]
    },
    {
      "cell_type": "markdown",
      "metadata": {},
      "source": [
        "Creation of CSV files"
      ]
    },
    {
      "cell_type": "code",
      "execution_count": null,
      "metadata": {
        "colab": {
          "base_uri": "https://localhost:8080/"
        },
        "id": "PTdFZ_O7c2_E",
        "outputId": "49c2af65-c04b-48a0-d3c9-5896241909f8"
      },
      "outputs": [],
      "source": [
        "csv_file = '/content/gdrive/MyDrive/edsmlproj2/ciaran_windpredictions.csv'\n",
        "\n",
        "missing_wing_speeds = list(chain.from_iterable(predicted_labels[-13:]))\n",
        "\n",
        "missing_times = list(test_df['relative_time'][-13:])"
      ]
    },
    {
      "cell_type": "code",
      "execution_count": null,
      "metadata": {},
      "outputs": [],
      "source": [
        "to_csv(csv_file, missing_times, missing_wing_speeds)"
      ]
    }
  ],
  "metadata": {
    "accelerator": "GPU",
    "colab": {
      "gpuType": "V100",
      "provenance": []
    },
    "kernelspec": {
      "display_name": "Python 3",
      "name": "python3"
    },
    "language_info": {
      "codemirror_mode": {
        "name": "ipython",
        "version": 3
      },
      "file_extension": ".py",
      "mimetype": "text/x-python",
      "name": "python",
      "nbconvert_exporter": "python",
      "pygments_lexer": "ipython3",
      "version": "3.11.5"
    }
  },
  "nbformat": 4,
  "nbformat_minor": 0
}
